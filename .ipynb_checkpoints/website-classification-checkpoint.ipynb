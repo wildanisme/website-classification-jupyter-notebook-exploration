{
 "cells": [
  {
   "cell_type": "code",
   "execution_count": 1,
   "id": "45f93214",
   "metadata": {},
   "outputs": [],
   "source": [
    "import re, unicodedata\n",
    "import pandas as pd\n",
    "from Sastrawi.Stemmer.StemmerFactory import StemmerFactory\n",
    "from nltk.stem import WordNetLemmatizer\n",
    "from nltk.corpus import stopwords\n",
    "from nltk import word_tokenize\n",
    "# import packages\n",
    "import pandas as pd\n",
    "from pandas.plotting import scatter_matrix\n",
    "from sklearn.model_selection import train_test_split, GridSearchCV, KFold\n",
    "from sklearn import model_selection, naive_bayes, svm\n",
    "from sklearn.svm import SVC\n",
    "from sklearn.feature_extraction.text import TfidfVectorizer\n",
    "from sklearn.neighbors import KNeighborsClassifier\n",
    "from sklearn.metrics import confusion_matrix, accuracy_score, classification_report\n",
    "from dash import Dash, html, dcc\n",
    "import plotly.express as px\n",
    "import seaborn as sns\n",
    "import matplotlib.pyplot as plt\n",
    "\n",
    "import numpy as np\n",
    "\n",
    "import pickle, os"
   ]
  },
  {
   "cell_type": "code",
   "execution_count": 4,
   "id": "32424fa4",
   "metadata": {},
   "outputs": [],
   "source": [
    "# preprocessing\n",
    "def cleaning(str):\n",
    "    #remove non-ascii\n",
    "    str = unicodedata.normalize('NFKD', str).encode('ascii', 'ignore').decode('utf-8', 'ignore')  \n",
    "    #remove number\n",
    "    str = re.sub(r\"\\d+\", \"\", str)\n",
    "    #to lower\n",
    "    str = str.lower()\n",
    "    #remove punctuations\n",
    "    str = re.sub(r'[^\\w]|_',' ',str)\n",
    "    # menghapus spasi awal dan akhir\n",
    "    str = str.strip()\n",
    "    #Remove additional white spaces\n",
    "    str = re.sub(r'[\\s]+', ' ', str)\n",
    "    return str\n",
    "\n",
    "# Mendefinisikan library stemmer\n",
    "factory = StemmerFactory()\n",
    "stemmer = factory.create_stemmer()\n",
    "\n",
    "# Mendefinisikan library lemmatizer\n",
    "lemmatizer = WordNetLemmatizer() # Menggunakan NLTK\n",
    "\n",
    "#function untuk menghapus stopword\n",
    "def removeStopword(str):\n",
    "    stop_words = set(stopwords.words('/Users/asolaakbar/Wildan/skripsi/explore/stopword'))\n",
    "    word_tokens = word_tokenize(str)\n",
    "    filtered_sentence = [w for w in word_tokens if not w in stop_words]\n",
    "    return ' '.join(filtered_sentence)\n",
    "\n",
    "def preprocessing(str):\n",
    "    str = cleaning(str) # cleaning dataset\n",
    "    str = removeStopword(str) # stopword\n",
    "    str = stemmer.stem(str) # stemming kata\n",
    "    str = lemmatizer.lemmatize(str) # lemmatization kata\n",
    "    return str"
   ]
  },
  {
   "cell_type": "code",
   "execution_count": 5,
   "id": "9bdef022",
   "metadata": {},
   "outputs": [
    {
     "data": {
      "text/html": [
       "<div>\n",
       "<style scoped>\n",
       "    .dataframe tbody tr th:only-of-type {\n",
       "        vertical-align: middle;\n",
       "    }\n",
       "\n",
       "    .dataframe tbody tr th {\n",
       "        vertical-align: top;\n",
       "    }\n",
       "\n",
       "    .dataframe thead th {\n",
       "        text-align: right;\n",
       "    }\n",
       "</style>\n",
       "<table border=\"1\" class=\"dataframe\">\n",
       "  <thead>\n",
       "    <tr style=\"text-align: right;\">\n",
       "      <th></th>\n",
       "      <th>Unnamed: 0</th>\n",
       "      <th>website_url</th>\n",
       "      <th>cleaned_website_text</th>\n",
       "      <th>Category</th>\n",
       "    </tr>\n",
       "  </thead>\n",
       "  <tbody>\n",
       "    <tr>\n",
       "      <th>0</th>\n",
       "      <td>0</td>\n",
       "      <td>https://www.booking.com/index.html?aid=1743217</td>\n",
       "      <td>official site good hotel accommodation big sav...</td>\n",
       "      <td>Travel</td>\n",
       "    </tr>\n",
       "    <tr>\n",
       "      <th>1</th>\n",
       "      <td>1</td>\n",
       "      <td>https://travelsites.com/expedia/</td>\n",
       "      <td>expedia hotel book sites like use vacation wor...</td>\n",
       "      <td>Travel</td>\n",
       "    </tr>\n",
       "    <tr>\n",
       "      <th>2</th>\n",
       "      <td>2</td>\n",
       "      <td>https://travelsites.com/tripadvisor/</td>\n",
       "      <td>tripadvisor hotel book sites like previously d...</td>\n",
       "      <td>Travel</td>\n",
       "    </tr>\n",
       "    <tr>\n",
       "      <th>3</th>\n",
       "      <td>3</td>\n",
       "      <td>https://www.momondo.in/?ispredir=true</td>\n",
       "      <td>cheap flights search compare flights momondo f...</td>\n",
       "      <td>Travel</td>\n",
       "    </tr>\n",
       "    <tr>\n",
       "      <th>4</th>\n",
       "      <td>4</td>\n",
       "      <td>https://www.ebookers.com/?AFFCID=EBOOKERS-UK.n...</td>\n",
       "      <td>bot create free account create free account si...</td>\n",
       "      <td>Travel</td>\n",
       "    </tr>\n",
       "    <tr>\n",
       "      <th>...</th>\n",
       "      <td>...</td>\n",
       "      <td>...</td>\n",
       "      <td>...</td>\n",
       "      <td>...</td>\n",
       "    </tr>\n",
       "    <tr>\n",
       "      <th>1403</th>\n",
       "      <td>1403</td>\n",
       "      <td>http://www.oldwomen.org/</td>\n",
       "      <td>old nude women porn mature granny sex horny ol...</td>\n",
       "      <td>Adult</td>\n",
       "    </tr>\n",
       "    <tr>\n",
       "      <th>1404</th>\n",
       "      <td>1404</td>\n",
       "      <td>http://www.webcamslave.com</td>\n",
       "      <td>bdsm cams bdsm chat bondage cams free bdsm vid...</td>\n",
       "      <td>Adult</td>\n",
       "    </tr>\n",
       "    <tr>\n",
       "      <th>1405</th>\n",
       "      <td>1405</td>\n",
       "      <td>http://www.buyeuroporn.com/</td>\n",
       "      <td>porno dvd online european porn dvd cheap adult...</td>\n",
       "      <td>Adult</td>\n",
       "    </tr>\n",
       "    <tr>\n",
       "      <th>1406</th>\n",
       "      <td>1406</td>\n",
       "      <td>http://www.analdreamhouse.com/30/03/agecheck/i...</td>\n",
       "      <td>anal dream house anal dream house anal dream h...</td>\n",
       "      <td>Adult</td>\n",
       "    </tr>\n",
       "    <tr>\n",
       "      <th>1407</th>\n",
       "      <td>1407</td>\n",
       "      <td>http://www.world-sex-news.com/</td>\n",
       "      <td>world sex news daily sex news adult news eroti...</td>\n",
       "      <td>Adult</td>\n",
       "    </tr>\n",
       "  </tbody>\n",
       "</table>\n",
       "<p>1408 rows × 4 columns</p>\n",
       "</div>"
      ],
      "text/plain": [
       "      Unnamed: 0                                        website_url  \\\n",
       "0              0     https://www.booking.com/index.html?aid=1743217   \n",
       "1              1                   https://travelsites.com/expedia/   \n",
       "2              2               https://travelsites.com/tripadvisor/   \n",
       "3              3              https://www.momondo.in/?ispredir=true   \n",
       "4              4  https://www.ebookers.com/?AFFCID=EBOOKERS-UK.n...   \n",
       "...          ...                                                ...   \n",
       "1403        1403                           http://www.oldwomen.org/   \n",
       "1404        1404                         http://www.webcamslave.com   \n",
       "1405        1405                        http://www.buyeuroporn.com/   \n",
       "1406        1406  http://www.analdreamhouse.com/30/03/agecheck/i...   \n",
       "1407        1407                     http://www.world-sex-news.com/   \n",
       "\n",
       "                                   cleaned_website_text Category  \n",
       "0     official site good hotel accommodation big sav...   Travel  \n",
       "1     expedia hotel book sites like use vacation wor...   Travel  \n",
       "2     tripadvisor hotel book sites like previously d...   Travel  \n",
       "3     cheap flights search compare flights momondo f...   Travel  \n",
       "4     bot create free account create free account si...   Travel  \n",
       "...                                                 ...      ...  \n",
       "1403  old nude women porn mature granny sex horny ol...    Adult  \n",
       "1404  bdsm cams bdsm chat bondage cams free bdsm vid...    Adult  \n",
       "1405  porno dvd online european porn dvd cheap adult...    Adult  \n",
       "1406  anal dream house anal dream house anal dream h...    Adult  \n",
       "1407  world sex news daily sex news adult news eroti...    Adult  \n",
       "\n",
       "[1408 rows x 4 columns]"
      ]
     },
     "execution_count": 5,
     "metadata": {},
     "output_type": "execute_result"
    }
   ],
   "source": [
    "# preprocessing\n",
    "# import csv\n",
    "df = pd.read_csv(\"dataset-urls.csv\")\n",
    "df"
   ]
  },
  {
   "cell_type": "code",
   "execution_count": 6,
   "id": "71d588be",
   "metadata": {},
   "outputs": [
    {
     "data": {
      "text/plain": [
       "Education                          114\n",
       "Business/Corporate                 109\n",
       "Travel                             107\n",
       "Streaming Services                 105\n",
       "Sports                             104\n",
       "E-Commerce                         102\n",
       "Games                               98\n",
       "News                                96\n",
       "Health and Fitness                  96\n",
       "Photography                         93\n",
       "Computers and Technology            93\n",
       "Food                                92\n",
       "Law and Government                  84\n",
       "Social Networking and Messaging     83\n",
       "Forums                              16\n",
       "Adult                               16\n",
       "Name: Category, dtype: int64"
      ]
     },
     "execution_count": 6,
     "metadata": {},
     "output_type": "execute_result"
    }
   ],
   "source": [
    "# preprocessing\n",
    "\n",
    "df[\"Category\"].value_counts()"
   ]
  },
  {
   "cell_type": "code",
   "execution_count": 7,
   "id": "d5379abb",
   "metadata": {},
   "outputs": [],
   "source": [
    "# preprocessing\n",
    "\n",
    "df.drop_duplicates(subset=['cleaned_website_text'], inplace = True)"
   ]
  },
  {
   "cell_type": "code",
   "execution_count": 8,
   "id": "3a3804b4",
   "metadata": {},
   "outputs": [
    {
     "data": {
      "text/plain": [
       "Education                          114\n",
       "Business/Corporate                 108\n",
       "Travel                             106\n",
       "Streaming Services                 104\n",
       "E-Commerce                         101\n",
       "Sports                             100\n",
       "Games                               98\n",
       "News                                92\n",
       "Food                                92\n",
       "Computers and Technology            90\n",
       "Health and Fitness                  89\n",
       "Photography                         87\n",
       "Law and Government                  83\n",
       "Social Networking and Messaging     79\n",
       "Forums                              16\n",
       "Adult                               16\n",
       "Name: Category, dtype: int64"
      ]
     },
     "execution_count": 8,
     "metadata": {},
     "output_type": "execute_result"
    }
   ],
   "source": [
    "# preprocessing\n",
    "\n",
    "df[\"Category\"].value_counts()"
   ]
  },
  {
   "cell_type": "code",
   "execution_count": 9,
   "id": "9c6e9009",
   "metadata": {},
   "outputs": [
    {
     "data": {
      "text/plain": [
       "Unnamed: 0              1375\n",
       "website_url             1375\n",
       "cleaned_website_text    1375\n",
       "Category                1375\n",
       "dtype: int64"
      ]
     },
     "execution_count": 9,
     "metadata": {},
     "output_type": "execute_result"
    }
   ],
   "source": [
    "# preprocessing\n",
    "\n",
    "df.count()"
   ]
  },
  {
   "cell_type": "code",
   "execution_count": null,
   "id": "29caf7be",
   "metadata": {},
   "outputs": [
    {
     "name": "stdout",
     "output_type": "stream",
     "text": [
      "official hotel accommodation saving hotel destination worldwide browse hotel review guarantee price hotel budget lodging accommodation hotel hotels special offer package special weekend break city break deal budget cheap discount saving select language deal hotel search connect traveller india travel talk community recommend destination flamborough boreland colvend catfield harberton warleggan inspiration trip spot winter wildlife beautiful snowy island bye bye spontechnaity tech drive travel vital maximise travel homes guest love browse property type hotels apartments resorts villa cabins cottage glamping serviced apartment holiday guest house hostels motels ryokans riads holiday park homestays campsites country house farm stay boats luxury tent catering accommodation tiny house chapel saint leonards wuqing wuchang saint eval rowsley instow verified review real guest start booking follow trip finally review skip main content inr choose currency current currency indian rupee choose language current language english english english deutsch nederlands francais espanol espanol espanol catala italiano portugues portugues norsk suomi svenska dansk cestina magyar romana polski turkce latviski bahasa indonesia bahasa malaysia eesti hrvatski lietuviu slovencina srpski slovenscina tieng viet filipino islenska reservation list property register sign coronavirus support check travel restriction travel permit purpose touristic travel read deal hotel cosy country funky city flat type destination error enter destination start search flamborough boreland colvend catfield check check occupancy adult child adults adults children child search entire apartment travel result map travel offer enjoy stay january deal deal save booking start deal travel community traveller discussion traveller view traveller explore india popular destination lot offer goa property lonavala property north goa property mahabaleshwar property mumbai property delhi property south goa property jaipur property alibaug property bangalore property apartment villa aparthotels holiday homes cottage apartment trip discover flamborough property boreland colvend property catfield property harberton property warleggan property animal hibernate winter destination embrace cold magical frost vista blissful quiet snowy island promise pure escapism remote term reality set office traveller technology regain confidence travel safely traveller prioritise money book transparency flexibility sign deal reveal secret deal sign hotels hotel apartment apartment resort resort villas villas cabin cabin cottage cottage glampe glamping service apartment serviced apartment holiday holiday guest house guest house hostels hostel motel motel ryokan ryokan riad riad holiday park holiday park homestays homestay campsite campsite country house country house farm stay farm stay boats boat luxury tent luxury tent catering accommodation catering property tiny house tiny house united kingdom holiday rental holiday villa apartment glamping china china united kingdom holiday rental villa holiday united kingdom villa holiday holiday rental united kingdom holiday rental holiday villa destination list property mobile version account change book online contact customer service affiliate business countries regions cities districts airports hotels apartments resorts villas hostels guest house unique stay destination reviews travel communities seasonal holiday deal travel agents coronavirus faq contact customer service partner careers sustainability press centre safety resource centre investor relation terms conditions partner dispute privacy cookie statement corporate contact seek perfect listing include listing apartment unique stay locate destination country territory base amsterdam netherlands support internationally office country extranet login copyright reserve booking holdings leader online travel service start dialog content property review real verify guest start booking leave review booking review real guest stay property follow trip guest stay property check quiet friendly staff finally review trip guest stay check naughty word verify authenticity guest review add book leave review sign sign leave review dialog content check check tu close calendar sign continue sign account option account create account gogless\n",
      "jumlah 1\n",
      "expedia hotel book sites vacation hard day day reward break city expedia expedia expedia expedia expedia expedia offer expedia expedia bargain fare alternative sites expedia blog travelsites hotel booking sites expedia visit vote vacation hard day day reward break city immerse culture country adventure climb mountain lie beach day soak sun matter traveler happen relate deal expense surround traveling crucial vacation infamously expensive price tag associate aspect trip plane ticket book nice hotel share rent car eat cost money vacation set careful booking personally plan vacation deal book score hot deal mention listing offer sort online user experience offer breadth service package travel deal quality feature content offer sound lot track worry seasoned globe trotter familiar travel exist chance rely step step popular book time expedia expedia live hype figure review hear expedia frankly travel pretty hard ignore effective marketing campaign travel book expedia commercial spend nurture expand image trusted brand travel industry start travel siter depth expedia synonymous book bet lot people company longstande history provide excellent vacation history head default time start book trip expedia deserve online hotel booking dive expedia trusted brand travel industry suppose surprise speak volume company manage maintain squeaky clean reputation span decade experience equal expertise officially launch october interestingly expedia initially division expedia leave nest public company time rich barton expedia ceo july usa networks acquire expedia purchase burgeon travel undisclosed money easily steady expansion expedia save short lived beef amr corporation parent company american airlines american eagle airlines expedia dump listing airline dispute surround level access expedia customer decision reverse airline restore listing september company partnership expedia partner citibank offer customer card collect bonus purchase earn benefit saving priority customer service hey expedia sleek intuitive design travel experience lot travel book tend suffer issue clutter fit feature content single expedia pace single component overwhelm distract panel time simplicity land greet user friendly search stay flight package car rental cruise destination info voila start browse mention expedia hotel booking book hotel amazing price listing accommodation require trip car rental flight travel package activity cruise feel head expedia travel inspiration execute regularly update travel blog sort pop idea stay mood traditional hotel stay worry expedia offer share suppose crazy age airbnb intimate centralized stay immerse culture plan visit expedia offer perfectly mobile optimize conveniently visit mobile device choice app travel space ios android expedia app smooth intuitive streamline entire trip book ready phone fun app apple app store expedia rate travel app market average user rating star people love app people industry design matter happen rest assure expedia ease expedia bargain fare offer cheap deal compare trip advisor pay expedia expedia offer pricing trip advisor list competitor pricing central complaint expedia bit browsing tight budget vein argument expedia spend time push benefit distracting annoy book expedia discount stay accommodation worth david jones professional travel writer travel enthusiast travel share firsthand knowledge relate travel spending time pro shop travel accommodation design detailed description awesome app deal overpromotion benefit annoying tripadvisor agoda priceline orbitz travelocity hotwire hotelscombined momondo hotels onetravel hotels hotel booking sites travel list travel sites check travel list travel travel sites blog travel list\n",
      "jumlah 2\n",
      "tripadvisor hotel book sites deal restaurant bar review tripadvisor offer hotel reservation fine result tripadvisor alternative sites tripadvisor blog travelsites hotel book sites tripadvisor visit vote deal restaurant bar review tripadvisor offer hotel reservation fine result tripadvisor compare cost book include option view deal price tripadvisor stay accommodation bit review choose spend hard earn cash select review depend language traveller type time idea stay hotel precisely plan tripadvisor option key word review location type location traveller comment include contact hotel link hotel specific user feeling restrict book tripadvisor photo vide professional photo traveller photo add transparency booking happy tripadvisor feature people property aggressive pop partner company user feel ease reservation time feel convoluted review post trust tripadvisor tool book accommodation david jones professional travel writer travel enthusiast travel share firsthand knowledge relate travel spending time pro user compare result deal user review refine filter user professional photo user photo sense hotel contact info hotel include type accommodation compare book feel convoluted confusing time ranks hotel user view user review trust expedia agoda priceline orbitz travelocity hotwire hotelscombined momondo hotels onetravel hotels hotel booking sites travel list travel sites check travel list travel travel sites blog travel list\n",
      "jumlah 3\n"
     ]
    },
    {
     "name": "stdout",
     "output_type": "stream",
     "text": [
      "cheap flights search compare flights momondo cheap flight momondo compare fare airline travel rate compare cheap flight trending city search city momondo trending country search country momondo flight route deal destination compare cheap flight delhi flight hyderabad flight london flight bangkok flight kochi flight mumbai flight chennai flight kolkata flight ahmedabad flight pune flight bengaluru flight toronto flight dubai flight york flight denpasar flight cheap flight deal momondo currency redirect base location close flights stay car rental explore trip sign return adult adult adult age select student student age select youths youth age select children child age select toddler seat seat infant age select infant lap lap infant age select error economy mumbai bom month month autumn winter spring summer dec jan feb mar apr jun jul aug sep oct nov search price flight average passenger include infant compare momondo mumbai bom include nearby include nearby economy include nearby include nearby depart economy include nearby include nearby depart economy include nearby include nearby depart economy include nearby include nearby depart economy include nearby include nearby depart economy remove add add flight price flight average passenger include infant search compare momondo price price estimated price return flight flight hyderabad flight amsterdam flight lin flights dubai flight san francisco flight los angeles flights ahmedabad flight lisbon flights united flights germany flights canada flights denmark flight united kingdom flights france flights finland flight thailand flights sweden flights italy flights united arab emirates flight netherlands flights spain flights australia flights brazil flights portugal flights japan flights russia flights china flights switzerland flights norway flights indonesia flights romania flights malaysia search compare real time price flight easily cheap quick flight deal delhi flight flight mumbai delhi flights hyderabad delhi flights bagdogra delhi flights chandigarh delhi flights kochi delhi flights bengaluru delhi flights pune delhi flights patna delhi flights chennai delhi flights ahmedabad delhi hyderabad flight flight bengaluru hyderabad flights delhi hyderabad flights mumbai hyderabad flights chennai hyderabad flights visakhapatnam hyderabad flights ahmedabad hyderabad flights kolkata hyderabad flights kochi hyderabad flights indore hyderabad flights rajahmundry hyderabad london flight flight delhi london flights mumbai london flights chennai london flights hyderabad london flights bengaluru london flights kochi london flights ahmedabad london flights amritsar london flights vasco da gama london flights kolkata london bangkok flight flight delhi bangkok flights mumbai bangkok flights bengaluru bangkok flights kolkata bangkok flights chennai bangkok flights ahmedabad bangkok flights hyderabad bangkok flights kochi bangkok flights jaipur bangkok flights pune bangkok kochi flight flight delhi kochi flights mumbai kochi flights hyderabad kochi flights bengaluru kochi flights chennai kochi flights ahmedabad kochi flights pune kochi flights kolkata kochi flights guwahati kochi flights indore kochi mumbai flight flight delhi mumbai flights kolkata mumbai flights hyderabad mumbai flights bengaluru mumbai flights chennai mumbai flights kochi mumbai flights ranchi mumbai flights ahmedabad mumbai flights lucknow mumbai flights varanasi mumbai chennai flight flight hyderabad chennai flights pune chennai flights mumbai chennai flights delhi chennai flights kolkata chennai flights coimbatore chennai flights madurai chennai flights bengaluru chennai flights patna chennai flights kochi chennai kolkata flight flight guwahati kolkata flights delhi kolkata flights surat kolkata flights hyderabad kolkata flights bengaluru kolkata flights mumbai kolkata flights pune kolkata flights chennai kolkata flights ahmedabad kolkata flights patna kolkata ahmedabad flight flight mumbai ahmedabad flights lucknow ahmedabad flights delhi ahmedabad flights pune ahmedabad flight hyderabad ahmedabad flight kochi ahmedabad flights vasco da gama ahmedabad flight bengaluru ahmedabad flights indore ahmedabad flight coimbatore ahmedabad pune flight flight delhi pune flights mumbai pune flights ahmedabad pune flights lucknow pune flights kolkata pune flights bengaluru pune flights patna pune flights chennai pune flights kochi pune flights hyderabad pune bengaluru flight flight delhi bengaluru flights mumbai bengaluru flights hyderabad bengaluru flights pune bengaluru flights patna bengaluru flights jaipur bengaluru flights ahmedabad bengaluru flights bhubaneswar bengaluru flights kolkata bengaluru flights bagdogra bengaluru toronto flight flight delhi toronto flights mumbai toronto flights hyderabad toronto flights ahmedabad toronto flights kolkata toronto flights amritsar toronto flights bengaluru toronto flights kochi toronto flights rajkot toronto flights chennai toronto dubai flight flight delhi dubai flights mumbai dubai flights bengaluru dubai flights chennai dubai flights hyderabad dubai flights kochi dubai flights ahmedabad dubai flights lucknow dubai flights kolkata dubai flights thiruvananthapuram dubai york flight flight mumbai york flights delhi york flights hyderabad york flights ahmedabad york flights chennai york flights vijayawada york flights bengaluru york flights kochi york flights kolkata york flights pune york denpasar flight flight mumbai denpasar flights delhi denpasar flights bengaluru denpasar flights chennai denpasar flights hyderabad denpasar flights ahmedabad denpasar flights kolkata denpasar flights kochi denpasar flights pune denpasar flights bhopal denpasar momondo cheap flight momondo search airline travel major book individual company easily compare online flight price completely hide charge fee price affect search matter travel acquaint border culture aim option mix match save money save money combine flight ticket supplier book outbound flight supplier return flight mix match save money combine ticket supplier automatically include option flight result label mix match price complete booking flow reward save money traditional return ticket supplier flight price choose destination preferred travel provide overview cheap quick flight flexible popular route search momondo price calendar search result easily cheap travel flight deal sign price alert favourite route automatically live price update book price flight search result profile menu app price alert navigation menu subscribe special offer limited time deal partner sign notification profile subscribe topic momondo cheap flight momondo search airline travel major book individual company easily compare online flight price completely hide charge fee price affect search matter travel acquaint border culture aim option flight price choose destination preferred travel provide overview cheap quick flight flexible popular route search momondo price calendar search result easily cheap travel mix match save money save money combine flight ticket supplier book outbound flight supplier return flight mix match save money combine ticket supplier automatically include option flight result label mix match price complete booking flow reward save money traditional return ticket supplier flight deal sign price alert favourite route automatically live price update book price flight search result profile menu app price alert navigation menu subscribe special offer limited time deal partner sign notification profile subscribe topic india currency momondo return multi city economy premium economy business multiple max airport max airport economy economy premium economy business depart economy economy premium economy business depart economy economy premium economy business depart economy economy premium economy business depart economy economy premium economy business depart economy economy premium economy business choose origin airport location airports airport drive transport pop enter location nearby airport choose airport enter location nearby airport choose destination airport location airport airport drive transport pop enter location nearby airport choose airport enter location nearby airport select destination trip explore select airport search form search budget explore\n",
      "jumlah 4\n"
     ]
    },
    {
     "name": "stdout",
     "output_type": "stream",
     "text": [
      "bot create account create account sign account sign account human ebooker partner services global link skip main content domaintext continue ussitedomain close booking travel behalf menu hide menu shop travel flights hotels flight hotel cars holiday rentals activities deal mute app blog list property account sign create account account account sign log account view shopping save trip support customer support manage trip feedback window customer service toll customer international rate apply flights hotels flight hotel cars holiday rentals activities deal mute app blog activity mute app main content create account sign apple sign naver sign facebook sign google apologise failure account exist authentication failure action require finish create account link send surname email address enter valid email address check enter email address correctly check enter email address correctly continue email sign sign email address create password window earn reward instantly accept term conditions window check box receive email travel deal special offer unsubscribe time sign create account agree term window privacy policy window create ebooker account reward programme read agree term window privacy policy window terms conditions window account sign sign sign apple sign naver sign facebook sign google apologise failure enter unknown email address incorrect password authentication failure routine security check reset account password rest assure account safe forgot password link set password email address password sign cookie forget password window earn reward instantly accept term conditions window sign sign ebooker account reward programme read agree term window privacy policy window terms conditions window account sign human bot human add property explore careers privacy policy cookie policy contact book term condition term ebooker support add property expedia partner solutions api press office advertise affiliate travel blog hotels flight holiday unique accommodation ebooker reviews payments accept include american express diner club international maestro mastercard visa visa electron paypal flight inclusive package create financially protect atol scheme expedia atol atol protection apply travel service list financially protect book travel service list scope atol scheme confirm financial protection apply booking term condition provide protection apply travel service offer booking receive atol certificate booking atol protect receive atol certificate trip list atol protect package include flight linked travel arrangements create monie pay flight inclusive package monie pay linked travel arrangements protect insurance event insolvency insurance protection arrange international passenger protection limited underwrite underwriter lloyd term condition financial protection atol certificate operate expedia expedia responsible content external expedia expedia company reserve\n",
      "jumlah 5\n",
      "hotel reservations bundle save book flight sale hotel instant saving save hotel deal day save rental car deal day save flight deal day flight flight flight flight flight save hotel flight save hotel flight car deal day deal budget incredible price hotel flight car package worldwide billions save save traveler dollar hotel flight packages book save bundle reach hour day day week discover deal city product priceline partner priceline connect priceline hotels car rental flight vacation cruise trip trip view print email itinerary trip frequently question request contact sale hotels flight car hotels flight car check day month check day month deal multiple hotel location location return location pick day month drop day month deal trip multi city depart day month return day month cabin class economy coach premium economy business deal depart day month cabin class economy coach premium economy business deal depart day month depart day month add flight depart day month remove flight add flight depart day month remove flight add flight check day month remove flight cabin class economy coach premium economy business deal flight hotel flight hotel car check day month check day month deal excitement york cutting edge cool los angeles theme park paradise orlando sweet southern charm atlanta food capital dallas soak scenes san francisco beach time miami mile magic denver pacific northwest beauty seattle ride waves san ego hotel express deals price hotel car rental flight vacations cruises priceline rewards visa card contact careers media center investor relations terms conditions privacy policy add hotel priceline partner network advertise priceline ios priceline android facebook instagram twitter youtube priceline price express deal tonight deal service mark registered service mark llc material llc reserve llc locate connecticut ave norwalk ct priceline price express deals service publish price service exact hotel airline rental car company book sale final booking holdings leader online travel service\n",
      "jumlah 6\n",
      "official travel deals promotion choose hotel country real guest review book flight destination worldwide customer service flight cheap flight reservation hotel hotels inn accommodation discount vacation package travel trip deal specials train trust travel partner reliable support service contact app download app en usd search booking register sign hotel flights trains cars car rentals airport transfers tours tickets attractions rewards deal trust worldwide traveller search entire trip cover reach anytime phone email chat english united usd service guarantee news careers terms conditions privacy statement sell personal investor relations rewards affiliate program list hotel hotels tours tickets vendor feedback customer support brand awards south korea google material design awards asia ecommerce awards hong kong copyright travel singapore pte reserve operator travel singapore pte\n",
      "jumlah 7\n",
      "bot create account create account sign account sign account human orbitz orbitz rewards links partner services skip main content domaintext continue ussitedomain close booking travel behalf rewards menu hide menu customer shop travel hotels flights vacation package car vacation rentals cruise deal mobile travel blog list property account sign exclusive insider price sign create account account customer account sign log account view shopping save trip support customer support manage trip feedback window espanol customer service toll customer international rate apply hotels flights vacation package car vacation rentals cruise deal mobile travel blog mobile main content create account sign google sign apple sign naver sign facebook apologize failure account exist authentication failure action require finish create account link send email address enter valid email address check enter email address correctly check enter email address correctly continue email sign sign email address create password earn travel reward orbitz rewards window orbitz rewards accept term conditions window send email travel deal special offer sign create account agree term window privacy policy window create account agree term window privacy policy window orbitz rewards terms conditions window account sign sign sign google sign apple sign naver sign facebook apologize failure enter unknown email address incorrect password authentication failure routine security check reset account password rest assure account safe forgot password link set password email address password sign forgot password earn travel reward orbitz rewards window orbitz rewards accept term conditions window sign sign agree orbitz rewards terms conditions window account sign human bot human add property explore orbitz investor relations jobs media advertising affiliate add hotel add activity orbitz business orbitz agents term support privacy policy sell personal orbitz rewards vip hotels visa card benefit promotion usa hotels usa flights usa vacation package usa car rentals travel blog customer support price guarantee travel deal mobile vacations unique accommodation orbitz review orbitz coupon add property orbitz llc expedia company reserve orbitz orbitz logo registered trademark trademark orbitz llc country logo product company mention property respective owner cst\n",
      "jumlah 8\n"
     ]
    },
    {
     "name": "stdout",
     "output_type": "stream",
     "text": [
      "bot create account create account sign account sign account human travelocity links global sites partner services skip main content domaintext continue ussitedomain close booking travel behalf saved hotels account menu expedia rewards rate hotel sign create account account trip reward sign menu hide menu shop travel vacation package hotels car flight cruise trip discover vacation rental travel deal inspire mobile list property account sign exclusive discounts create account account account sign log account view shopping save trip support customer support manage trip feedback window espanol customer service toll customer international rate apply vacation package hotels car flight cruise trip discover vacation rental travel deal inspire mobile vacation rental inspire mobile main content create account sign google sign apple sign naver sign facebook apologize failure account exist authentication failure action require finish create account link send email address enter valid email address check enter email address correctly check enter email address correctly continue email sign sign email address create password send email travel deal special offer sign create account agree term window privacy policy window create account agree term window privacy policy window expedia rewards terms conditions window account sign sign sign google sign apple sign naver sign facebook apologize failure enter unknown email address incorrect password authentication failure routine security check reset account password rest assure account safe forgot password link set password email address password sign forgot password sign sign agree expedia rewards terms conditions window account sign human bot human add property explore travelocity customer support press advertising jobs ads privacy policy term map accessibility support sell personal usa vacation package usa flights usa hotels usa car hire unique stay travelocity merchandise travelocity guarantees subscribe create account travelocity reviews travelocity coupon code canada add property travelscape llc expedia company reserve travelocity stars design roaming gnome design trademark travelscape llc constitute acceptance travelocity user agreement privacy policy cst\n",
      "jumlah 9\n",
      "cheap hotels cars flights mute travel deals hotwire deal cheap hotel car flight hotwire save hotel rent car day favorite destination\n",
      "jumlah 10\n",
      "hotel cheap hotels discount hotel reservations sign sign campaign price alert manage booking popular currency turkish lira usd united dollar eur euro currencies ars argentine peso aud australian dollar brl brazilian real gbp british pound sterling bgn bulgarian lev currency cad cad canadian dollar currency clp clp chilean peso currency cny cny chinese yuan currency cop cop colombian peso currency czk czk czech republic koruna currency dkk dkk danish krone currency eur eur euro currency hkd hkd hong kong dollar currency huf huf hungarian forint currency inr inr indian rupee currency idr idr indonesian rupiah currency ils ils israeli sheqel currency jpy jpy japanese yen currency kzt kzt kazakhstani tenge currency kwd kwd kuwaiti dinar currency myr myr malaysian ringgit currency mxn mxn mexican peso currency mad mad moroccan dirham currency twd twd taiwan dollar currency nzd nzd zealand dollar currency nok nok norwegian krone currency php php philippine peso currency pln pln polish zloty currency qar qar qatari rial currency ron ron romanian leu currency rub rub russian ruble currency sar sar saudi riyal currency sgd sgd singapore dollar currency zar zar south african rand currency krw krw south korean currency sek sek swedish krona currency chf chf swiss franc currency thb thb thai baht currency turkish lira currency uah uah ukrainian hryvnia currency aed aed united arab emirates dirham currency usd usd united dollar english popular languages english deutsch espanol francais italiano languages dansk deutsch english espanol francais italiano nederlands norsk polski portugues suomi svenska turkce journey start memo city hotel check check october tu guests adults adult adult families add guest adult adult adult adult adult adults child child child child child children search book price night hotel stars star hotel star hotel star hotel star hotel facilities wifi swimming pool parking mood romance spa relax family nature hotels star istanbul oct oct hotels usd istanbul oct oct holiday spend fun family vacation romantic getaway prefer feel salty sea breeze sip cocktail beach choose preference pick adventure ideal suggestion adventure trip choose packing ideal suggestion packing trip choose beach seaside ideal suggestion beach seaside trip choose city hotel ideal suggestion city hotel trip choose eco friendly ideal suggestion eco friendly trip choose family ideal suggestion family trip choose golf ideal suggestion golf trip choose honeymoon ideal suggestion honeymoon trip choose budget ideal suggestion budget trip choose nature ideal suggestion nature trip choose romance ideal suggestion romance trip choose spa ideal suggestion spa trip choose wintersport ideal suggestion wintersport trip choose commerce country yearly bookings english deutsch espanol francais italiano dansk suomi nederlands norsk polski portugues svenska turkce turkish lira united dollar euro british pound sterling bulgarian lev danish krone malaysian ringgit ukrainian hryvnia saudi riyal hong kong dollar swiss franc thai baht moroccan dirham philippine peso south african rand united arab emirates dirham hungarian forint qatari rial norwegian krone indian rupee mexican peso czech republic koruna colombian peso indonesian rupiah israeli sheqel swedish krona australian dollar south korean chilean peso kazakhstani tenge polish zloty canadian dollar kuwaiti dinar taiwan dollar singapore dollar chinese yuan zealand dollar argentine peso romanian leu japanese yen russian ruble brazilian real center contact policy privacy policy terms conditions cookie policy popular cities barcelona london paris social medium facebook twitter instagram responsible content external reserve\n",
      "jumlah 11\n",
      "holiday homes experiences airbnb unforgettable trip start airbnb adventure nearby faraway access unique experience community host support skip content airbnb properly javascript enable late response start search stay experience online experience location navigate access result check add check add guest add guest search host sign log host host experience explore nearby stay explore nearby stay airbnb newsroom airbnb airbnb luxe hoteltonight airbnb olympics careers diversity belonging accessibility airbnb associates frontline stays invite friend host host online experience host experience responsible host resource centre community centre response centre cancellation option neighbourhood support trust safety choose language english choose currency usd airbnb reserve privacy term sitemap\n",
      "jumlah 12\n",
      "book cheap flight hotels menu connect select country india danmark deutschland espana france ireland italia magyarorszag norge sverige united kingdom mobile app condition privacy policy cookie policy manage cookie jobs support airline contact property bravonext headquarter vicolo calvi chiasso switzerland company vat num company bong lm reserve service provide partners travel product intermediate organize bravoventure india pvt innovent spaces pvt indiqube alpha register office floor wing kadubeesanahalli village varthur hobli outer road bangalore lastminute lm secret hotels secret register trademark company bravonext bravoventure india private responsible content external\n",
      "jumlah 13\n"
     ]
    }
   ],
   "source": [
    "# preprocessing\n",
    "# proses untuk preprocessing data training\n",
    "prepros = []\n",
    "j = 0\n",
    "for i in df.cleaned_website_text:\n",
    "    a = preprocessing(str(i))\n",
    "    prepros.append(a)\n",
    "    print(a)\n",
    "    j += 1\n",
    "    print(\"jumlah\", j)"
   ]
  },
  {
   "cell_type": "code",
   "execution_count": null,
   "id": "8a34c6af",
   "metadata": {},
   "outputs": [],
   "source": [
    "# preprocessing\n",
    "\n",
    "result = pd.DataFrame({\"text\" : prepros, \"label\":df.Category.tolist()})\n",
    "reslut"
   ]
  },
  {
   "cell_type": "code",
   "execution_count": null,
   "id": "908cad04",
   "metadata": {},
   "outputs": [],
   "source": [
    "# preprocessing\n",
    "# save csv\n",
    "hasil.to_csv(r'dataset-preprocessing.csv', index = None)"
   ]
  }
 ],
 "metadata": {
  "kernelspec": {
   "display_name": "Python 3 (ipykernel)",
   "language": "python",
   "name": "python3"
  },
  "language_info": {
   "codemirror_mode": {
    "name": "ipython",
    "version": 3
   },
   "file_extension": ".py",
   "mimetype": "text/x-python",
   "name": "python",
   "nbconvert_exporter": "python",
   "pygments_lexer": "ipython3",
   "version": "3.9.13"
  }
 },
 "nbformat": 4,
 "nbformat_minor": 5
}
